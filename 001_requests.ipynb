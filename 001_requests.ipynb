{
 "cells": [
  {
   "cell_type": "code",
   "execution_count": null,
   "id": "c769626a",
   "metadata": {},
   "outputs": [],
   "source": [
    "!pip install anthropic python-dotenv"
   ]
  },
  {
   "cell_type": "code",
   "execution_count": 1,
   "id": "864b93dc",
   "metadata": {},
   "outputs": [
    {
     "data": {
      "text/plain": [
       "True"
      ]
     },
     "execution_count": 1,
     "metadata": {},
     "output_type": "execute_result"
    }
   ],
   "source": [
    "# Load environment variables from .env file\n",
    "from dotenv import load_dotenv\n",
    "load_dotenv()"
   ]
  },
  {
   "cell_type": "code",
   "execution_count": 2,
   "id": "27a396c1",
   "metadata": {},
   "outputs": [],
   "source": [
    "# Create an API client for Anthropic\n",
    "\n",
    "from anthropic import Anthropic\n",
    "\n",
    "client = Anthropic()\n",
    "model = \"claude-sonnet-4-0\""
   ]
  },
  {
   "cell_type": "code",
   "execution_count": 3,
   "id": "cc696048",
   "metadata": {},
   "outputs": [],
   "source": [
    "# Helper function to aid us in maintaining conversation context/history\n",
    "def add_user_message(messages, text):\n",
    "    user_message = {\"role\": \"user\", \"content\": text}\n",
    "    messages.append(user_message)\n",
    "    \n",
    "def add_assistant_message(messages, text):\n",
    "    add_assistant_messages = {\"role\": \"assistant\", \"content\": text}\n",
    "    messages.append(add_assistant_messages)"
   ]
  },
  {
   "cell_type": "code",
   "execution_count": null,
   "id": "e1d75afd",
   "metadata": {},
   "outputs": [],
   "source": [
    "# Make a request to the Claude Sonnet model\n",
    "\n",
    "# def chat(message):\n",
    "#     message = client.messages.create(\n",
    "#         model=model,\n",
    "#         max_tokens=1000,\n",
    "#         messages=[\n",
    "#             {\n",
    "#                 \"role\": \"user\",\n",
    "#                 \"content\": \"What is quantum computing? Answer in one sentence.\"\n",
    "#             }\n",
    "#         ]\n",
    "#     )\n",
    "#     return message.content[0].text"
   ]
  },
  {
   "cell_type": "code",
   "execution_count": null,
   "id": "f0a3f074",
   "metadata": {},
   "outputs": [
    {
     "data": {
      "text/plain": [
       "'Quantum computing is a revolutionary computing paradigm that uses quantum mechanical phenomena like superposition and entanglement to process information in ways that can potentially solve certain problems exponentially faster than classical computers.'"
      ]
     },
     "execution_count": 30,
     "metadata": {},
     "output_type": "execute_result"
    }
   ],
   "source": [
    "# Make a starting list of messages\n",
    "# messages = []\n",
    "\n",
    "# Add in the initial user uestion of \"Define quantum conputing in one sentence\"\n",
    "# add_user_message(messages, \"Define quantum conputing in one sentence\")\n",
    "\n",
    "# Pass the list of messages into 'chat' to get an answer\n",
    "# answer = chat(messages)\n",
    "\n",
    "# Take the answer and add it as an assistant message into our list \n",
    "# add_assistant_message(messages, answer)\n",
    "\n",
    "# Add in the user's follow-up question\n",
    "# add_user_message(messages, \"Write another sentence\")\n",
    "\n",
    "# Call chat again with the list of messages to get a final answer\n",
    "# answer = chat(messages)\n",
    "\n",
    "# answer"
   ]
  },
  {
   "cell_type": "code",
   "execution_count": 8,
   "id": "ed341539",
   "metadata": {},
   "outputs": [],
   "source": [
    "# Make a request to the Claude Sonnet model\n",
    "\n",
    "def chat(message):\n",
    "    message = client.messages.create(\n",
    "        model=model,\n",
    "        max_tokens=1000,\n",
    "        messages=message\n",
    "    )\n",
    "    return message.content[0].text"
   ]
  },
  {
   "cell_type": "code",
   "execution_count": 9,
   "id": "e86d3896",
   "metadata": {},
   "outputs": [
    {
     "name": "stdout",
     "output_type": "stream",
     "text": [
      "> 5*5\n",
      "---\n",
      "5 × 5 = 25\n",
      "---\n",
      "> +1\n",
      "---\n",
      "25 + 1 = 26\n",
      "---\n",
      "> quit\n",
      "---\n",
      "Goodbye! Feel free to come back if you need help with more calculations or anything else.\n",
      "---\n",
      "> hello\n",
      "---\n",
      "Hello! Good to see you again. How can I help you today?\n",
      "---\n",
      "> stop\n",
      "---\n",
      "I'm here whenever you need me. Feel free to ask if you have any questions or need assistance with anything!\n",
      "---\n"
     ]
    }
   ],
   "source": [
    "# Make an initial list of messages\n",
    "message = []\n",
    "\n",
    "# Use a 'while True' loop to run the chatbot forever\n",
    "\n",
    "while True:\n",
    "    # Get user input\n",
    "    user_input = input(\"> \")\n",
    "    print(\">\", user_input)\n",
    "    \n",
    "    # Add user input to the list of messages\n",
    "    add_user_message(message, user_input)\n",
    "    \n",
    "    # Call claude with the 'chat' function\n",
    "    new_answer = chat(message)\n",
    "    \n",
    "    # Add generated text to the list of messages\n",
    "    add_assistant_message(message, new_answer)\n",
    "    \n",
    "    # Print the generated text\n",
    "    print(\"---\")\n",
    "    print(new_answer)\n",
    "    print(\"---\")\n",
    "    \n",
    "    if user_input.lower() == \"stop\":\n",
    "        break"
   ]
  }
 ],
 "metadata": {
  "kernelspec": {
   "display_name": "n8n",
   "language": "python",
   "name": "python3"
  },
  "language_info": {
   "codemirror_mode": {
    "name": "ipython",
    "version": 3
   },
   "file_extension": ".py",
   "mimetype": "text/x-python",
   "name": "python",
   "nbconvert_exporter": "python",
   "pygments_lexer": "ipython3",
   "version": "3.10.18"
  }
 },
 "nbformat": 4,
 "nbformat_minor": 5
}
