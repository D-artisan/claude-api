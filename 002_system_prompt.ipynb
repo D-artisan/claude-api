{
 "cells": [
  {
   "cell_type": "code",
   "execution_count": 2,
   "id": "a7318d4e",
   "metadata": {},
   "outputs": [],
   "source": [
    "# Load environment variables from .env file\n",
    "from dotenv import load_dotenv\n",
    "load_dotenv()\n",
    "\n",
    "# Create an API client for Anthropic\n",
    "\n",
    "from anthropic import Anthropic\n",
    "\n",
    "client = Anthropic()\n",
    "model = \"claude-sonnet-4-0\""
   ]
  },
  {
   "cell_type": "code",
   "execution_count": null,
   "id": "2f4bd450",
   "metadata": {},
   "outputs": [],
   "source": [
    "def add_user_message(messages, text):\n",
    "    user_message = {\"role\": \"user\", \"content\": text}\n",
    "    messages.append(user_message)\n",
    "    \n",
    "def add_assistant_message(messages, text):\n",
    "    add_assistant_messages = {\"role\": \"assistant\", \"content\": text}\n",
    "    messages.append(add_assistant_messages)\n",
    "    \n",
    "def chat(messages, system=None, temperature=0.7):\n",
    "    params = {\n",
    "        \"model\": model,\n",
    "        \"max_tokens\": 1000,\n",
    "        \"messages\": messages,\n",
    "        \"temperature\": temperature\n",
    "    }\n",
    "    \n",
    "    if system:\n",
    "        params[\"system\"] = system\n",
    "    \n",
    "    message = client.messages.create(**params)\n",
    "    return message.content[0].text"
   ]
  },
  {
   "cell_type": "code",
   "execution_count": null,
   "id": "98751cfc",
   "metadata": {},
   "outputs": [
    {
     "data": {
      "text/plain": [
       "'To solve 5X + 3 = 2 for X, I need to isolate X by using inverse operations.\\n\\n**Step 1:** Subtract 3 from both sides\\n5X + 3 - 3 = 2 - 3\\n5X = -1\\n\\n**Step 2:** Divide both sides by 5\\n5X ÷ 5 = -1 ÷ 5\\nX = -1/5\\n\\n**Check:** Let me verify by substituting back into the original equation:\\n5(-1/5) + 3 = -1 + 3 = 2 ✓\\n\\nTherefore, **X = -1/5** (or -0.2 in decimal form).'"
      ]
     },
     "execution_count": 8,
     "metadata": {},
     "output_type": "execute_result"
    }
   ],
   "source": [
    "messages = []\n",
    "\n",
    "system = \"\"\"\n",
    "You are a patient math tutor.\n",
    "Do not directly answer a student's question.\n",
    "Guide them to a solution step by step.\n",
    "\"\"\"\n",
    "\n",
    "add_user_message(messages, \"How do I solve 5X+3=2 for X?\")\n",
    "\n",
    "answer = chat(messages) # or chat(messages, system=system) to include system prompt\n",
    "answer"
   ]
  },
  {
   "cell_type": "code",
   "execution_count": 9,
   "id": "b9f3fbb6",
   "metadata": {},
   "outputs": [
    {
     "data": {
      "text/plain": [
       "'```python\\ndef has_duplicate_chars(s):\\n    return len(s) != len(set(s))\\n```\\n\\nOr if you need to return the duplicate characters:\\n\\n```python\\ndef find_duplicate_chars(s):\\n    seen = set()\\n    duplicates = set()\\n    for char in s:\\n        if char in seen:\\n            duplicates.add(char)\\n        else:\\n            seen.add(char)\\n    return duplicates\\n```'"
      ]
     },
     "execution_count": 9,
     "metadata": {},
     "output_type": "execute_result"
    }
   ],
   "source": [
    "messages = []\n",
    "\n",
    "system = \"\"\"\n",
    "You are a Senior Software Engineer and Python expert. Only provide concise, relevant answers to the user's questions. \n",
    "Do not provide any additional information or context.\n",
    "\"\"\"\n",
    "\n",
    "add_user_message(messages, \"Write a python function that checks a string for dupiicate characters.\")\n",
    "\n",
    "answer = chat(messages, system=system)\n",
    "answer"
   ]
  },
  {
   "cell_type": "code",
   "execution_count": 14,
   "id": "22ad26de",
   "metadata": {},
   "outputs": [
    {
     "data": {
      "text/plain": [
       "\"A reclusive librarian discovers that every book returned late to her small-town library erases one day from the borrower's life, forcing her to choose between enforcing the rules that keep her immortal or saving her community.\""
      ]
     },
     "execution_count": 14,
     "metadata": {},
     "output_type": "execute_result"
    }
   ],
   "source": [
    "messages = []\n",
    "\n",
    "add_user_message(messages, \"Generate a one sentence movie idea\")\n",
    "\n",
    "answer = chat(messages, temperature=1.0)\n",
    "\n",
    "answer"
   ]
  },
  {
   "cell_type": "code",
   "execution_count": 16,
   "id": "160c7481",
   "metadata": {},
   "outputs": [
    {
     "name": "stdout",
     "output_type": "stream",
     "text": [
      "RawMessageStartEvent(message=Message(id='msg_01Dtj7sBFtz5wf3Bx8e2GibW', content=[], model='claude-sonnet-4-20250514', role='assistant', stop_reason=None, stop_sequence=None, type='message', usage=Usage(cache_creation_input_tokens=0, cache_read_input_tokens=0, input_tokens=16, output_tokens=1, server_tool_use=None, service_tier='standard')), type='message_start')\n",
      "RawContentBlockStartEvent(content_block=TextBlock(citations=None, text='', type='text'), index=0, type='content_block_start')\n",
      "RawContentBlockDeltaEvent(delta=TextDelta(text='\"', type='text_delta'), index=0, type='content_block_delta')\n",
      "RawContentBlockDeltaEvent(delta=TextDelta(text='CustomerInsights\" is a comprehensive database', type='text_delta'), index=0, type='content_block_delta')\n",
      "RawContentBlockDeltaEvent(delta=TextDelta(text=' containing detailed purchasing histories, demographic profiles, and behavioral analytics', type='text_delta'), index=0, type='content_block_delta')\n",
      "RawContentBlockDeltaEvent(delta=TextDelta(text=' for over 2.3 million retail', type='text_delta'), index=0, type='content_block_delta')\n",
      "RawContentBlockDeltaEvent(delta=TextDelta(text=' customers across North America, designed to help businesses optimize', type='text_delta'), index=0, type='content_block_delta')\n",
      "RawContentBlockDeltaEvent(delta=TextDelta(text=' their marketing strategies and personalize customer experiences.', type='text_delta'), index=0, type='content_block_delta')\n",
      "RawContentBlockStopEvent(index=0, type='content_block_stop')\n",
      "RawMessageDeltaEvent(delta=Delta(stop_reason='end_turn', stop_sequence=None), type='message_delta', usage=MessageDeltaUsage(cache_creation_input_tokens=None, cache_read_input_tokens=None, input_tokens=None, output_tokens=51, server_tool_use=None))\n",
      "RawMessageStopEvent(type='message_stop')\n"
     ]
    }
   ],
   "source": [
    "messages = []\n",
    "\n",
    "add_user_message(messages, \"Write a one sentence description of a fake database\")\n",
    "\n",
    "stream = client.messages.create(\n",
    "    model=model,   \n",
    "    max_tokens=1000,\n",
    "    messages=messages,\n",
    "    stream=True\n",
    ")\n",
    "\n",
    "for event in stream:\n",
    "    print(event)"
   ]
  },
  {
   "cell_type": "code",
   "execution_count": 18,
   "id": "13e34231",
   "metadata": {},
   "outputs": [
    {
     "data": {
      "text/plain": [
       "Message(id='msg_01MEMkB1WrQLCC8HwUpNz1a8', content=[TextBlock(citations=None, text='Here\\'s a one-sentence description of a fake database:\\n\\nThe \"Global Pet Mood Registry\" is a comprehensive database containing over 847 million entries that track the daily emotional states, dream patterns, and philosophical musings of household pets across 23 countries, as reported by their owners through a sophisticated AI-powered pet telepathy interface.', type='text')], model='claude-sonnet-4-20250514', role='assistant', stop_reason='end_turn', stop_sequence=None, type='message', usage=Usage(cache_creation_input_tokens=0, cache_read_input_tokens=0, input_tokens=16, output_tokens=74, server_tool_use=None, service_tier='standard'))"
      ]
     },
     "execution_count": 18,
     "metadata": {},
     "output_type": "execute_result"
    }
   ],
   "source": [
    "messages = []\n",
    "\n",
    "add_user_message(messages, \"Write a one sentence description of a fake database\")\n",
    "\n",
    "with client.messages.stream(\n",
    "    model=model,\n",
    "    max_tokens=1000,\n",
    "    messages=messages\n",
    ") as stream:\n",
    "    for text in stream.text_stream:\n",
    "        # print(text, end='')\n",
    "        pass\n",
    "    \n",
    "stream.get_final_message()"
   ]
  }
 ],
 "metadata": {
  "kernelspec": {
   "display_name": "n8n",
   "language": "python",
   "name": "python3"
  },
  "language_info": {
   "codemirror_mode": {
    "name": "ipython",
    "version": 3
   },
   "file_extension": ".py",
   "mimetype": "text/x-python",
   "name": "python",
   "nbconvert_exporter": "python",
   "pygments_lexer": "ipython3",
   "version": "3.10.18"
  }
 },
 "nbformat": 4,
 "nbformat_minor": 5
}
